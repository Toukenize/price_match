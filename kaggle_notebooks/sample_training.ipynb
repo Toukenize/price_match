{
 "cells": [
  {
   "cell_type": "markdown",
   "id": "sunrise-savings",
   "metadata": {
    "papermill": {
     "duration": 0.007708,
     "end_time": "2021-05-08T16:39:17.004018",
     "exception": false,
     "start_time": "2021-05-08T16:39:16.996310",
     "status": "completed"
    },
    "tags": []
   },
   "source": [
    "# Install Neptune and Faiss"
   ]
  },
  {
   "cell_type": "code",
   "execution_count": 1,
   "id": "protecting-guide",
   "metadata": {
    "execution": {
     "iopub.execute_input": "2021-05-08T16:39:17.024764Z",
     "iopub.status.busy": "2021-05-08T16:39:17.024223Z",
     "iopub.status.idle": "2021-05-08T16:39:57.694295Z",
     "shell.execute_reply": "2021-05-08T16:39:57.693647Z"
    },
    "papermill": {
     "duration": 40.684036,
     "end_time": "2021-05-08T16:39:57.694456",
     "exception": false,
     "start_time": "2021-05-08T16:39:17.010420",
     "status": "completed"
    },
    "tags": []
   },
   "outputs": [],
   "source": [
    "!pip install neptune-client -q\n",
    "!pip install faiss-cpu -q\n",
    "!pip install pydantic -q\n",
    "!pip install timm -q"
   ]
  },
  {
   "cell_type": "markdown",
   "id": "painted-sentence",
   "metadata": {
    "papermill": {
     "duration": 0.006506,
     "end_time": "2021-05-08T16:39:57.708414",
     "exception": false,
     "start_time": "2021-05-08T16:39:57.701908",
     "status": "completed"
    },
    "tags": []
   },
   "source": [
    "# Get Tokens & Load Github Repo"
   ]
  },
  {
   "cell_type": "code",
   "execution_count": 2,
   "id": "bottom-beatles",
   "metadata": {
    "_cell_guid": "233f4e37-7f3e-4da2-88d6-8826954b5b64",
    "_uuid": "a5ee7070-8f35-43a5-ad76-100a835a8bc9",
    "collapsed": false,
    "execution": {
     "iopub.execute_input": "2021-05-08T16:39:57.727833Z",
     "iopub.status.busy": "2021-05-08T16:39:57.727191Z",
     "iopub.status.idle": "2021-05-08T16:39:58.207592Z",
     "shell.execute_reply": "2021-05-08T16:39:58.206808Z"
    },
    "jupyter": {
     "outputs_hidden": false
    },
    "papermill": {
     "duration": 0.493106,
     "end_time": "2021-05-08T16:39:58.207756",
     "exception": false,
     "start_time": "2021-05-08T16:39:57.714650",
     "status": "completed"
    },
    "tags": []
   },
   "outputs": [],
   "source": [
    "import os\n",
    "from kaggle_secrets import UserSecretsClient\n",
    "\n",
    "secrets = UserSecretsClient()\n",
    "GITHUB_TOKEN = secrets.get_secret(\"GITHUB_TOKEN\")\n",
    "NEPTUNE_TOKEN = secrets.get_secret(\"NEPTUNE_TOKEN\")\n",
    "\n",
    "os.environ['NEPTUNE_TOKEN'] = NEPTUNE_TOKEN\n",
    "os.environ['PROJECT_NAME'] = 'chewzy/shopee-price-match'"
   ]
  },
  {
   "cell_type": "code",
   "execution_count": 3,
   "id": "fancy-stream",
   "metadata": {
    "execution": {
     "iopub.execute_input": "2021-05-08T16:39:58.231059Z",
     "iopub.status.busy": "2021-05-08T16:39:58.230102Z",
     "iopub.status.idle": "2021-05-08T16:40:00.084276Z",
     "shell.execute_reply": "2021-05-08T16:40:00.083720Z"
    },
    "papermill": {
     "duration": 1.869405,
     "end_time": "2021-05-08T16:40:00.084407",
     "exception": false,
     "start_time": "2021-05-08T16:39:58.215002",
     "status": "completed"
    },
    "tags": []
   },
   "outputs": [
    {
     "name": "stdout",
     "output_type": "stream",
     "text": [
      "Cloning into 'price_match'...\r\n",
      "remote: Enumerating objects: 399, done.\u001b[K\r\n",
      "remote: Counting objects: 100% (399/399), done.\u001b[K\r\n",
      "remote: Compressing objects: 100% (247/247), done.\u001b[K\r\n",
      "remote: Total 399 (delta 193), reused 316 (delta 121), pack-reused 0\u001b[K\r\n",
      "Receiving objects: 100% (399/399), 73.58 KiB | 1.23 MiB/s, done.\r\n",
      "Resolving deltas: 100% (193/193), done.\r\n"
     ]
    }
   ],
   "source": [
    "!git clone https://{GITHUB_TOKEN}@github.com/Toukenize/price_match.git"
   ]
  },
  {
   "cell_type": "markdown",
   "id": "basic-ethnic",
   "metadata": {
    "papermill": {
     "duration": 0.008568,
     "end_time": "2021-05-08T16:40:00.102953",
     "exception": false,
     "start_time": "2021-05-08T16:40:00.094385",
     "status": "completed"
    },
    "tags": []
   },
   "source": [
    "# Overwrite the configurations in constants.py"
   ]
  },
  {
   "cell_type": "code",
   "execution_count": 4,
   "id": "treated-directive",
   "metadata": {
    "execution": {
     "iopub.execute_input": "2021-05-08T16:40:00.127374Z",
     "iopub.status.busy": "2021-05-08T16:40:00.126443Z",
     "iopub.status.idle": "2021-05-08T16:40:00.130620Z",
     "shell.execute_reply": "2021-05-08T16:40:00.131289Z"
    },
    "papermill": {
     "duration": 0.019661,
     "end_time": "2021-05-08T16:40:00.131460",
     "exception": false,
     "start_time": "2021-05-08T16:40:00.111799",
     "status": "completed"
    },
    "tags": []
   },
   "outputs": [
    {
     "name": "stdout",
     "output_type": "stream",
     "text": [
      "Overwriting price_match/src/config/constants.py\n"
     ]
    }
   ],
   "source": [
    "%%writefile price_match/src/config/constants.py\n",
    "import os\n",
    "from pathlib import Path\n",
    "from src.config.base_model_config import NLPConfig, IMGConfig\n",
    "\n",
    "# Data paths\n",
    "DATA_FOLDER = Path('../input/shopee-price-match-datasplit/')\n",
    "IMG_FOLDER = Path('../input/shopee-product-matching/')\n",
    "TRAIN_IMG_FOLDER = IMG_FOLDER / 'train_images'\n",
    "DATA_SPLIT_PATH = DATA_FOLDER / 'train_split_v3.csv'\n",
    "\n",
    "# Pretrained model paths\n",
    "MODEL_FOLDER = Path('model')\n",
    "PRETRAINED_NLP_MLM = ''\n",
    "PRETRAINED_TOKENIZER = ''\n",
    "PRETRAINED_IMG = '../input/efficient-net-b0-b3/efficientnet_b3.pth'\n",
    "\n",
    "# Output paths\n",
    "NLP_MODEL_PATH = MODEL_FOLDER / 'indobert_lite_p2' / 'emb_model_v3'\n",
    "IMG_MODEL_PATH = MODEL_FOLDER / 'efficient_net_b0' / 'emb_model_v1'\n",
    "\n",
    "for path in [NLP_MODEL_PATH, IMG_MODEL_PATH]:\n",
    "    if not path.exists():\n",
    "        path.mkdir(parents=True)\n",
    "\n",
    "# Dataloader Config\n",
    "NUM_WORKER = 4\n",
    "\n",
    "# KNN Chunksize\n",
    "KNN_CHUNKSIZE = 1024\n",
    "\n",
    "# NLP Configs\n",
    "NLP_CONFIG = NLPConfig(\n",
    "    epochs=50,\n",
    "    dropout_prob=0.1,\n",
    "    learning_rate=3e-5,\n",
    "    train_batch_size=64,\n",
    "    val_batch_size=128,\n",
    "    scheduler='cosine_decay_w_warmup',\n",
    "    scheduler_params={\n",
    "        \"num_warmup_epochs\": 5,\n",
    "        \"num_training_epochs\": 45,\n",
    "        \"num_cycles\": 0.4},\n",
    "    optimizer='adamw',\n",
    "    loss_fn='arcmargin',\n",
    "    loss_params={\"m\": 0.5, \"s\": 30.0, \"easy_margin\": False},\n",
    "    model_max_length=48,\n",
    "    pretrained_model_folder=PRETRAINED_NLP_MLM,\n",
    "    pretrained_tokenizer_folder=PRETRAINED_TOKENIZER\n",
    ")\n",
    "\n",
    "# IMG Configs\n",
    "IMG_CONFIG = IMGConfig(\n",
    "    epochs=27,\n",
    "    dropout_prob=0.15,\n",
    "    learning_rate=9e-5,\n",
    "    train_batch_size=16,\n",
    "    val_batch_size=64,\n",
    "    scheduler='cosine_decay_w_warmup',\n",
    "    scheduler_params={\n",
    "        \"num_warmup_epochs\": 4,\n",
    "        \"num_training_epochs\": 23,\n",
    "        \"num_cycles\": 0.4},\n",
    "    optimizer='adamw',\n",
    "    loss_fn='arcmargin',\n",
    "    loss_params={\"m\": 0.5, \"s\": 30.0, \"easy_margin\": False},\n",
    "    pretrained_model_path=PRETRAINED_IMG,\n",
    "    img_dim=512,\n",
    "    feature_dim=512\n",
    ")"
   ]
  },
  {
   "cell_type": "code",
   "execution_count": 5,
   "id": "hollow-scholarship",
   "metadata": {
    "execution": {
     "iopub.execute_input": "2021-05-08T16:40:00.153516Z",
     "iopub.status.busy": "2021-05-08T16:40:00.152863Z",
     "iopub.status.idle": "2021-05-08T16:40:00.155518Z",
     "shell.execute_reply": "2021-05-08T16:40:00.155928Z"
    },
    "papermill": {
     "duration": 0.015348,
     "end_time": "2021-05-08T16:40:00.156055",
     "exception": false,
     "start_time": "2021-05-08T16:40:00.140707",
     "status": "completed"
    },
    "tags": []
   },
   "outputs": [],
   "source": [
    "import sys\n",
    "\n",
    "sys.path.append('price_match/')"
   ]
  },
  {
   "cell_type": "code",
   "execution_count": 6,
   "id": "harmful-sunrise",
   "metadata": {
    "execution": {
     "iopub.execute_input": "2021-05-08T16:40:00.179941Z",
     "iopub.status.busy": "2021-05-08T16:40:00.176671Z",
     "iopub.status.idle": "2021-05-09T00:52:02.478830Z",
     "shell.execute_reply": "2021-05-09T00:52:02.477442Z"
    },
    "papermill": {
     "duration": 29522.314241,
     "end_time": "2021-05-09T00:52:02.478970",
     "exception": false,
     "start_time": "2021-05-08T16:40:00.164729",
     "status": "completed"
    },
    "tags": []
   },
   "outputs": [
    {
     "name": "stdout",
     "output_type": "stream",
     "text": [
      "2021-05-08 16:40:05.154429: I tensorflow/stream_executor/platform/default/dso_loader.cc:49] Successfully opened dynamic library libcudart.so.10.2\r\n",
      "https://ui.neptune.ai/chewzy/shopee-price-match/e/SHOPEE-200\r\n",
      "  0%|                                                  | 0/1598 [00:00<?, ?it/s]/opt/conda/lib/python3.7/site-packages/torch/optim/lr_scheduler.py:247: UserWarning: To get the last learning rate computed by the scheduler, please use `get_last_lr()`.\r\n",
      "  warnings.warn(\"To get the last learning rate computed by the scheduler, \"\r\n",
      ">> Fold 4, Epoch 1/27 - Train Loss : 23.7380 LR : 2.2e-05: 100%|█| 1598/1598 [15\r\n",
      ">> Generating embeddings: 100%|███████████████| 135/135 [02:33<00:00,  1.14s/it]\r\n",
      ">> Finding Neighbours: 100%|██████████████████████| 9/9 [00:00<00:00, 11.26it/s]\r\n",
      ">> Finding Best Thres: 100%|████████████████████| 36/36 [00:23<00:00,  1.51it/s]\r\n",
      ">> Fold 4, Epoch 2/27 - Train Loss : 21.3622 LR : 4.5e-05: 100%|█| 1598/1598 [15\r\n",
      ">> Generating embeddings: 100%|███████████████| 135/135 [02:34<00:00,  1.14s/it]\r\n",
      ">> Finding Neighbours: 100%|██████████████████████| 9/9 [00:00<00:00, 11.53it/s]\r\n",
      ">> Finding Best Thres: 100%|████████████████████| 36/36 [00:24<00:00,  1.48it/s]\r\n",
      ">> Fold 4, Epoch 3/27 - Train Loss : 19.7058 LR : 6.7e-05: 100%|█| 1598/1598 [15\r\n",
      ">> Generating embeddings: 100%|███████████████| 135/135 [02:30<00:00,  1.12s/it]\r\n",
      ">> Finding Neighbours: 100%|██████████████████████| 9/9 [00:00<00:00, 11.68it/s]\r\n",
      ">> Finding Best Thres: 100%|████████████████████| 36/36 [00:22<00:00,  1.58it/s]\r\n",
      ">> Fold 4, Epoch 4/27 - Train Loss : 18.0552 LR : 9.0e-05: 100%|█| 1598/1598 [15\r\n",
      ">> Generating embeddings: 100%|███████████████| 135/135 [02:32<00:00,  1.13s/it]\r\n",
      ">> Finding Neighbours: 100%|██████████████████████| 9/9 [00:00<00:00, 11.85it/s]\r\n",
      ">> Finding Best Thres: 100%|████████████████████| 36/36 [00:25<00:00,  1.42it/s]\r\n",
      ">> Fold 4, Epoch 5/27 - Train Loss : 13.6490 LR : 9.0e-05: 100%|█| 1598/1598 [15\r\n",
      ">> Generating embeddings: 100%|███████████████| 135/135 [02:31<00:00,  1.12s/it]\r\n",
      ">> Finding Neighbours: 100%|██████████████████████| 9/9 [00:01<00:00,  8.84it/s]\r\n",
      ">> Finding Best Thres: 100%|████████████████████| 36/36 [00:22<00:00,  1.63it/s]\r\n",
      ">> Fold 4, Epoch 6/27 - Train Loss : 9.3877 LR : 8.8e-05: 100%|█| 1598/1598 [15:\r\n",
      ">> Generating embeddings: 100%|███████████████| 135/135 [02:32<00:00,  1.13s/it]\r\n",
      ">> Finding Neighbours: 100%|██████████████████████| 9/9 [00:00<00:00, 11.69it/s]\r\n",
      ">> Finding Best Thres: 100%|████████████████████| 36/36 [00:21<00:00,  1.65it/s]\r\n",
      ">> Fold 4, Epoch 7/27 - Train Loss : 9.4280 LR : 8.7e-05: 100%|█| 1598/1598 [15:\r\n",
      ">> Generating embeddings: 100%|███████████████| 135/135 [02:36<00:00,  1.16s/it]\r\n",
      ">> Finding Neighbours: 100%|██████████████████████| 9/9 [00:00<00:00, 10.93it/s]\r\n",
      ">> Finding Best Thres: 100%|████████████████████| 36/36 [00:22<00:00,  1.60it/s]\r\n",
      ">> Fold 4, Epoch 8/27 - Train Loss : 8.6918 LR : 8.4e-05: 100%|█| 1598/1598 [15:\r\n",
      ">> Generating embeddings: 100%|███████████████| 135/135 [02:28<00:00,  1.10s/it]\r\n",
      ">> Finding Neighbours: 100%|██████████████████████| 9/9 [00:00<00:00, 11.55it/s]\r\n",
      ">> Finding Best Thres: 100%|████████████████████| 36/36 [00:22<00:00,  1.61it/s]\r\n",
      ">> Fold 4, Epoch 9/27 - Train Loss : 7.2689 LR : 8.1e-05: 100%|█| 1598/1598 [15:\r\n",
      ">> Generating embeddings: 100%|███████████████| 135/135 [02:28<00:00,  1.10s/it]\r\n",
      ">> Finding Neighbours: 100%|██████████████████████| 9/9 [00:00<00:00, 11.72it/s]\r\n",
      ">> Finding Best Thres: 100%|████████████████████| 36/36 [00:22<00:00,  1.63it/s]\r\n",
      ">> Fold 4, Epoch 10/27 - Train Loss : 6.4957 LR : 7.7e-05: 100%|█| 1598/1598 [15\r\n",
      ">> Generating embeddings: 100%|███████████████| 135/135 [02:27<00:00,  1.10s/it]\r\n",
      ">> Finding Neighbours: 100%|██████████████████████| 9/9 [00:00<00:00, 11.41it/s]\r\n",
      ">> Finding Best Thres: 100%|████████████████████| 36/36 [00:22<00:00,  1.61it/s]\r\n",
      ">> Fold 4, Epoch 11/27 - Train Loss : 3.3167 LR : 7.2e-05: 100%|█| 1598/1598 [15\r\n",
      ">> Generating embeddings: 100%|███████████████| 135/135 [02:27<00:00,  1.10s/it]\r\n",
      ">> Finding Neighbours: 100%|██████████████████████| 9/9 [00:00<00:00, 11.72it/s]\r\n",
      ">> Finding Best Thres: 100%|████████████████████| 36/36 [00:22<00:00,  1.62it/s]\r\n",
      ">> Fold 4, Epoch 12/27 - Train Loss : 4.2651 LR : 6.7e-05: 100%|█| 1598/1598 [15\r\n",
      ">> Generating embeddings: 100%|███████████████| 135/135 [02:26<00:00,  1.09s/it]\r\n",
      ">> Finding Neighbours: 100%|██████████████████████| 9/9 [00:00<00:00, 11.20it/s]\r\n",
      ">> Finding Best Thres: 100%|████████████████████| 36/36 [00:22<00:00,  1.63it/s]\r\n",
      ">> Fold 4, Epoch 13/27 - Train Loss : 2.3501 LR : 6.2e-05: 100%|█| 1598/1598 [15\r\n",
      ">> Generating embeddings: 100%|███████████████| 135/135 [02:26<00:00,  1.09s/it]\r\n",
      ">> Finding Neighbours: 100%|██████████████████████| 9/9 [00:00<00:00, 11.89it/s]\r\n",
      ">> Finding Best Thres: 100%|████████████████████| 36/36 [00:21<00:00,  1.64it/s]\r\n",
      ">> Fold 4, Epoch 14/27 - Train Loss : 3.0806 LR : 5.6e-05: 100%|█| 1598/1598 [15\r\n",
      ">> Generating embeddings: 100%|███████████████| 135/135 [02:27<00:00,  1.09s/it]\r\n",
      ">> Finding Neighbours: 100%|██████████████████████| 9/9 [00:01<00:00,  8.87it/s]\r\n",
      ">> Finding Best Thres: 100%|████████████████████| 36/36 [00:21<00:00,  1.64it/s]\r\n",
      ">> Fold 4, Epoch 15/27 - Train Loss : 2.0717 LR : 5.0e-05: 100%|█| 1598/1598 [15\r\n",
      ">> Generating embeddings: 100%|███████████████| 135/135 [02:31<00:00,  1.13s/it]\r\n",
      ">> Finding Neighbours: 100%|██████████████████████| 9/9 [00:00<00:00, 10.61it/s]\r\n",
      ">> Finding Best Thres: 100%|████████████████████| 36/36 [00:22<00:00,  1.62it/s]\r\n",
      ">> Fold 4, Epoch 16/27 - Train Loss : 2.0020 LR : 4.4e-05: 100%|█| 1598/1598 [15\r\n",
      ">> Generating embeddings: 100%|███████████████| 135/135 [02:40<00:00,  1.19s/it]\r\n",
      ">> Finding Neighbours: 100%|██████████████████████| 9/9 [00:00<00:00, 11.70it/s]\r\n",
      ">> Finding Best Thres: 100%|████████████████████| 36/36 [00:21<00:00,  1.67it/s]\r\n",
      ">> Fold 4, Epoch 17/27 - Train Loss : 1.4384 LR : 3.8e-05: 100%|█| 1598/1598 [15\r\n",
      ">> Generating embeddings: 100%|███████████████| 135/135 [02:44<00:00,  1.22s/it]\r\n",
      ">> Finding Neighbours: 100%|██████████████████████| 9/9 [00:00<00:00, 10.23it/s]\r\n",
      ">> Finding Best Thres: 100%|████████████████████| 36/36 [00:22<00:00,  1.60it/s]\r\n",
      ">> Fold 4, Epoch 18/27 - Train Loss : 1.6639 LR : 3.3e-05: 100%|█| 1598/1598 [15\r\n",
      ">> Generating embeddings: 100%|███████████████| 135/135 [02:42<00:00,  1.20s/it]\r\n",
      ">> Finding Neighbours: 100%|██████████████████████| 9/9 [00:00<00:00, 11.01it/s]\r\n",
      ">> Finding Best Thres: 100%|████████████████████| 36/36 [00:21<00:00,  1.67it/s]\r\n",
      ">> Fold 4, Epoch 19/27 - Train Loss : 2.1701 LR : 2.7e-05: 100%|█| 1598/1598 [15\r\n",
      ">> Generating embeddings: 100%|███████████████| 135/135 [02:43<00:00,  1.21s/it]\r\n",
      ">> Finding Neighbours: 100%|██████████████████████| 9/9 [00:00<00:00, 11.41it/s]\r\n",
      ">> Finding Best Thres: 100%|████████████████████| 36/36 [00:22<00:00,  1.63it/s]\r\n",
      ">> Fold 4, Epoch 20/27 - Train Loss : 1.2830 LR : 2.2e-05: 100%|█| 1598/1598 [15\r\n",
      ">> Generating embeddings: 100%|███████████████| 135/135 [02:47<00:00,  1.24s/it]\r\n",
      ">> Finding Neighbours: 100%|██████████████████████| 9/9 [00:01<00:00,  7.83it/s]\r\n",
      ">> Finding Best Thres: 100%|████████████████████| 36/36 [00:21<00:00,  1.65it/s]\r\n",
      ">> Fold 4, Epoch 21/27 - Train Loss : 1.5277 LR : 1.7e-05: 100%|█| 1598/1598 [15\r\n",
      ">> Generating embeddings: 100%|███████████████| 135/135 [02:58<00:00,  1.32s/it]\r\n",
      ">> Finding Neighbours: 100%|██████████████████████| 9/9 [00:00<00:00, 11.15it/s]\r\n",
      ">> Finding Best Thres: 100%|████████████████████| 36/36 [00:22<00:00,  1.63it/s]\r\n",
      ">> Fold 4, Epoch 22/27 - Train Loss : 1.7954 LR : 1.2e-05: 100%|█| 1598/1598 [15\r\n",
      ">> Generating embeddings: 100%|███████████████| 135/135 [02:37<00:00,  1.17s/it]\r\n",
      ">> Finding Neighbours: 100%|██████████████████████| 9/9 [00:01<00:00,  7.13it/s]\r\n",
      ">> Finding Best Thres: 100%|████████████████████| 36/36 [00:23<00:00,  1.51it/s]\r\n",
      ">> Fold 4, Epoch 23/27 - Train Loss : 0.5702 LR : 8.6e-06: 100%|█| 1598/1598 [15\r\n",
      ">> Generating embeddings: 100%|███████████████| 135/135 [02:39<00:00,  1.18s/it]\r\n",
      ">> Finding Neighbours: 100%|██████████████████████| 9/9 [00:01<00:00,  6.44it/s]\r\n",
      ">> Finding Best Thres: 100%|████████████████████| 36/36 [00:25<00:00,  1.39it/s]\r\n",
      ">> Fold 4, Epoch 24/27 - Train Loss : 0.8720 LR : 5.4e-06: 100%|█| 1598/1598 [15\r\n",
      ">> Generating embeddings: 100%|███████████████| 135/135 [02:37<00:00,  1.16s/it]\r\n",
      ">> Finding Neighbours: 100%|██████████████████████| 9/9 [00:01<00:00,  6.82it/s]\r\n",
      ">> Finding Best Thres: 100%|████████████████████| 36/36 [00:28<00:00,  1.28it/s]\r\n",
      ">> Fold 4, Epoch 25/27 - Train Loss : 0.7413 LR : 2.9e-06: 100%|█| 1598/1598 [15\r\n",
      ">> Generating embeddings: 100%|███████████████| 135/135 [02:34<00:00,  1.15s/it]\r\n",
      ">> Finding Neighbours: 100%|██████████████████████| 9/9 [00:01<00:00,  5.34it/s]\r\n",
      ">> Finding Best Thres: 100%|████████████████████| 36/36 [00:28<00:00,  1.25it/s]\r\n",
      ">> Fold 4, Epoch 26/27 - Train Loss : 2.4059 LR : 1.2e-06: 100%|█| 1598/1598 [15\r\n",
      ">> Generating embeddings: 100%|███████████████| 135/135 [02:29<00:00,  1.11s/it]\r\n",
      ">> Finding Neighbours: 100%|██████████████████████| 9/9 [00:01<00:00,  5.45it/s]\r\n",
      ">> Finding Best Thres: 100%|████████████████████| 36/36 [00:31<00:00,  1.16it/s]\r\n",
      ">> Fold 4, Epoch 27/27 - Train Loss : 0.4273 LR : 2.2e-07: 100%|█| 1598/1598 [15\r\n",
      ">> Generating embeddings: 100%|███████████████| 135/135 [02:27<00:00,  1.09s/it]\r\n",
      ">> Finding Neighbours: 100%|██████████████████████| 9/9 [00:01<00:00,  7.31it/s]\r\n",
      ">> Finding Best Thres: 100%|████████████████████| 36/36 [00:32<00:00,  1.12it/s]\r\n"
     ]
    }
   ],
   "source": [
    "!python price_match/train.py --env kaggle --model_type img --cv_type group --trainfolds 3"
   ]
  },
  {
   "cell_type": "code",
   "execution_count": null,
   "id": "outdoor-secretary",
   "metadata": {
    "papermill": {
     "duration": 24.591989,
     "end_time": "2021-05-09T00:52:51.217235",
     "exception": false,
     "start_time": "2021-05-09T00:52:26.625246",
     "status": "completed"
    },
    "tags": []
   },
   "outputs": [],
   "source": []
  }
 ],
 "metadata": {
  "kernelspec": {
   "display_name": "Python 3",
   "language": "python",
   "name": "python3"
  },
  "language_info": {
   "codemirror_mode": {
    "name": "ipython",
    "version": 3
   },
   "file_extension": ".py",
   "mimetype": "text/x-python",
   "name": "python",
   "nbconvert_exporter": "python",
   "pygments_lexer": "ipython3",
   "version": "3.7.9"
  },
  "papermill": {
   "default_parameters": {},
   "duration": 29644.757434,
   "end_time": "2021-05-09T00:53:16.403581",
   "environment_variables": {},
   "exception": null,
   "input_path": "__notebook__.ipynb",
   "output_path": "__notebook__.ipynb",
   "parameters": {},
   "start_time": "2021-05-08T16:39:11.646147",
   "version": "2.3.2"
  }
 },
 "nbformat": 4,
 "nbformat_minor": 5
}
