{
 "cells": [
  {
   "cell_type": "code",
   "execution_count": 1,
   "id": "found-velvet",
   "metadata": {
    "execution": {
     "iopub.execute_input": "2021-05-09T03:42:42.422120Z",
     "iopub.status.busy": "2021-05-09T03:42:42.421573Z",
     "iopub.status.idle": "2021-05-09T03:43:14.592279Z",
     "shell.execute_reply": "2021-05-09T03:43:14.591386Z"
    },
    "papermill": {
     "duration": 32.20676,
     "end_time": "2021-05-09T03:43:14.592442",
     "exception": false,
     "start_time": "2021-05-09T03:42:42.385682",
     "status": "completed"
    },
    "tags": []
   },
   "outputs": [
    {
     "name": "stdout",
     "output_type": "stream",
     "text": [
      "Processing /kaggle/input/faiss-170-latest-cpu-gpu/faiss_gpu-1.7.0-cp37-cp37m-manylinux2014_x86_64.whl\r\n",
      "Installing collected packages: faiss-gpu\r\n",
      "Successfully installed faiss-gpu-1.7.0\r\n"
     ]
    }
   ],
   "source": [
    "!pip install ../input/faiss-170-latest-cpu-gpu/faiss_gpu-1.7.0-cp37-cp37m-manylinux2014_x86_64.whl"
   ]
  },
  {
   "cell_type": "code",
   "execution_count": 2,
   "id": "offensive-austria",
   "metadata": {
    "execution": {
     "iopub.execute_input": "2021-05-09T03:43:14.655533Z",
     "iopub.status.busy": "2021-05-09T03:43:14.654611Z",
     "iopub.status.idle": "2021-05-09T03:43:14.657197Z",
     "shell.execute_reply": "2021-05-09T03:43:14.656669Z"
    },
    "papermill": {
     "duration": 0.033017,
     "end_time": "2021-05-09T03:43:14.657304",
     "exception": false,
     "start_time": "2021-05-09T03:43:14.624287",
     "status": "completed"
    },
    "tags": []
   },
   "outputs": [],
   "source": [
    "import sys\n",
    "sys.path.append('../input/timm-pytorch-image-models/pytorch-image-models-master')"
   ]
  },
  {
   "cell_type": "code",
   "execution_count": 3,
   "id": "expressed-turtle",
   "metadata": {
    "execution": {
     "iopub.execute_input": "2021-05-09T03:43:14.715030Z",
     "iopub.status.busy": "2021-05-09T03:43:14.714263Z",
     "iopub.status.idle": "2021-05-09T03:43:20.085612Z",
     "shell.execute_reply": "2021-05-09T03:43:20.084651Z"
    },
    "papermill": {
     "duration": 5.402759,
     "end_time": "2021-05-09T03:43:20.085754",
     "exception": false,
     "start_time": "2021-05-09T03:43:14.682995",
     "status": "completed"
    },
    "tags": []
   },
   "outputs": [],
   "source": [
    "import os\n",
    "import cv2\n",
    "import math\n",
    "import faiss\n",
    "import torch\n",
    "import timm\n",
    "import imagehash\n",
    "import pandas as pd\n",
    "import numpy as np\n",
    "import torch.nn as nn\n",
    "import torch.nn.functional as F\n",
    "import albumentations as a\n",
    "\n",
    "from sklearn.feature_extraction.text import TfidfVectorizer\n",
    "from albumentations.pytorch import ToTensorV2\n",
    "from typing import List, Tuple, Dict\n",
    "from pathlib import Path\n",
    "from tqdm import tqdm\n",
    "from transformers import AutoModel\n",
    "from torch.utils.data import DataLoader, Dataset\n",
    "from transformers import BertTokenizerFast"
   ]
  },
  {
   "cell_type": "markdown",
   "id": "graduate-garden",
   "metadata": {
    "papermill": {
     "duration": 0.027151,
     "end_time": "2021-05-09T03:43:20.140873",
     "exception": false,
     "start_time": "2021-05-09T03:43:20.113722",
     "status": "completed"
    },
    "tags": []
   },
   "source": [
    "# NLP Model Utils"
   ]
  },
  {
   "cell_type": "code",
   "execution_count": 4,
   "id": "threatened-effort",
   "metadata": {
    "execution": {
     "iopub.execute_input": "2021-05-09T03:43:20.202085Z",
     "iopub.status.busy": "2021-05-09T03:43:20.200439Z",
     "iopub.status.idle": "2021-05-09T03:43:20.202756Z",
     "shell.execute_reply": "2021-05-09T03:43:20.203170Z"
    },
    "papermill": {
     "duration": 0.036473,
     "end_time": "2021-05-09T03:43:20.203299",
     "exception": false,
     "start_time": "2021-05-09T03:43:20.166826",
     "status": "completed"
    },
    "tags": []
   },
   "outputs": [],
   "source": [
    "class ShopeeNLPModel(nn.Module):\n",
    "\n",
    "    def __init__(self, model_path, num_classes, dropout,\n",
    "                 margin_func, **margin_params):\n",
    "\n",
    "        super(ShopeeNLPModel, self).__init__()\n",
    "        self.model = AutoModel.from_pretrained(model_path)\n",
    "        self.dropout = nn.Dropout(dropout)\n",
    "        self.feature_dim = self.model.config.hidden_size\n",
    "        self.arc_margin = margin_func(\n",
    "            in_features=self.feature_dim,\n",
    "            out_features=num_classes,\n",
    "            **margin_params)\n",
    "\n",
    "    def forward(self, input_ids, token_type_ids, attention_mask, label):\n",
    "\n",
    "        x = self.extract_features(\n",
    "            input_ids=input_ids,\n",
    "            token_type_ids=token_type_ids,\n",
    "            attention_mask=attention_mask\n",
    "        )\n",
    "        x = self.dropout(x)\n",
    "        x = self.arc_margin(x, label)\n",
    "\n",
    "        return x\n",
    "\n",
    "    def extract_features(self, **data):\n",
    "\n",
    "        x = self.model(**data).last_hidden_state[:, 0, :]\n",
    "\n",
    "        return x"
   ]
  },
  {
   "cell_type": "code",
   "execution_count": 5,
   "id": "blessed-dealer",
   "metadata": {
    "execution": {
     "iopub.execute_input": "2021-05-09T03:43:20.267110Z",
     "iopub.status.busy": "2021-05-09T03:43:20.266407Z",
     "iopub.status.idle": "2021-05-09T03:43:20.269288Z",
     "shell.execute_reply": "2021-05-09T03:43:20.268880Z"
    },
    "papermill": {
     "duration": 0.040103,
     "end_time": "2021-05-09T03:43:20.269400",
     "exception": false,
     "start_time": "2021-05-09T03:43:20.229297",
     "status": "completed"
    },
    "tags": []
   },
   "outputs": [],
   "source": [
    "class ArcMarginProduct(nn.Module):\n",
    "    \"\"\"\n",
    "    Implement of large margin arc distance: :\n",
    "        Args:\n",
    "            in_features: size of each input sample\n",
    "            out_features: size of each output sample\n",
    "            s: norm of input feature\n",
    "            m: margin\n",
    "            cos(theta + m)\n",
    "    Reference: https://github.com/ronghuaiyang/arcface-pytorch/blob/47ace80b128042cd8d2efd408f55c5a3e156b032/models/metrics.py#L10\n",
    "    \"\"\"  # noqa\n",
    "\n",
    "    def __init__(self,\n",
    "                 in_features,\n",
    "                 out_features,\n",
    "                 s=30.0, m=0.50,\n",
    "                 easy_margin=False):\n",
    "        super(ArcMarginProduct, self).__init__()\n",
    "        self.in_features = in_features\n",
    "        self.out_features = out_features\n",
    "        self.s = s\n",
    "        self.m = m\n",
    "        self.weight = nn.Parameter(\n",
    "            torch.FloatTensor(out_features, in_features))\n",
    "        nn.init.xavier_uniform_(self.weight)\n",
    "\n",
    "        self.easy_margin = easy_margin\n",
    "        self.cos_m = math.cos(m)\n",
    "        self.sin_m = math.sin(m)\n",
    "        self.th = math.cos(math.pi - m)\n",
    "        self.mm = math.sin(math.pi - m) * m\n",
    "\n",
    "    def forward(self, data, label):\n",
    "\n",
    "        # cos(theta) & phi(theta)\n",
    "        cosine = F.linear(F.normalize(data), F.normalize(self.weight))\n",
    "        sine = torch.sqrt((1.0 - torch.pow(cosine, 2)).clamp(0, 1))\n",
    "        phi = cosine * self.cos_m - sine * self.sin_m\n",
    "\n",
    "        if self.easy_margin:\n",
    "            phi = torch.where(cosine > 0, phi, cosine)\n",
    "        else:\n",
    "            phi = torch.where(cosine > self.th, phi, cosine - self.mm)\n",
    "\n",
    "        # convert label to one-hot\n",
    "        one_hot = torch.zeros(cosine.size(), device=data.device)\n",
    "        one_hot.scatter_(1, label.view(-1, 1).long(), 1)\n",
    "\n",
    "        # torch.where(out_i = {x_i if condition_i else y_i)\n",
    "        # you can use torch.where if your torch.__version__ is 0.4\n",
    "        output = (one_hot * phi) + ((1.0 - one_hot) * cosine)\n",
    "        output *= self.s\n",
    "\n",
    "        return output"
   ]
  },
  {
   "cell_type": "code",
   "execution_count": 6,
   "id": "listed-madness",
   "metadata": {
    "execution": {
     "iopub.execute_input": "2021-05-09T03:43:20.329628Z",
     "iopub.status.busy": "2021-05-09T03:43:20.329046Z",
     "iopub.status.idle": "2021-05-09T03:43:20.331674Z",
     "shell.execute_reply": "2021-05-09T03:43:20.332064Z"
    },
    "papermill": {
     "duration": 0.036699,
     "end_time": "2021-05-09T03:43:20.332197",
     "exception": false,
     "start_time": "2021-05-09T03:43:20.295498",
     "status": "completed"
    },
    "tags": []
   },
   "outputs": [],
   "source": [
    "class PriceMatchNLPData(Dataset):\n",
    "\n",
    "    def __init__(\n",
    "            self, df,\n",
    "            text_col='title',\n",
    "            label_col=None,\n",
    "            **tokenizer_args):\n",
    "\n",
    "        self.df = df.reset_index(drop=True)\n",
    "        self.text_col = text_col\n",
    "        self.label_col = label_col\n",
    "        self.tokenizer = BertTokenizerFast.from_pretrained(**tokenizer_args)\n",
    "\n",
    "        if self.label_col is not None:\n",
    "            self.df = encode_label(\n",
    "                self.df, col_to_encode=label_col, col_encoded=label_col)\n",
    "\n",
    "    def __len__(self):\n",
    "        return len(self.df)\n",
    "\n",
    "    def __getitem__(self, idx):\n",
    "\n",
    "        row = self.df.iloc[idx]\n",
    "        data = self.tokenizer(\n",
    "            row[self.text_col],\n",
    "            padding='max_length',\n",
    "            truncation=True,\n",
    "            return_tensors='pt'\n",
    "        )\n",
    "\n",
    "        data = dict((k, v.squeeze()) for k, v in data.items())\n",
    "\n",
    "        if self.label_col is not None:\n",
    "            data['label'] = row[self.label_col]\n",
    "\n",
    "        return data\n"
   ]
  },
  {
   "cell_type": "code",
   "execution_count": 7,
   "id": "amber-portal",
   "metadata": {
    "execution": {
     "iopub.execute_input": "2021-05-09T03:43:20.390105Z",
     "iopub.status.busy": "2021-05-09T03:43:20.388904Z",
     "iopub.status.idle": "2021-05-09T03:43:20.391215Z",
     "shell.execute_reply": "2021-05-09T03:43:20.391574Z"
    },
    "papermill": {
     "duration": 0.033635,
     "end_time": "2021-05-09T03:43:20.391703",
     "exception": false,
     "start_time": "2021-05-09T03:43:20.358068",
     "status": "completed"
    },
    "tags": []
   },
   "outputs": [],
   "source": [
    "def get_nlp_data_loader(\n",
    "        df,\n",
    "        text_col='title',\n",
    "        label_col=None,\n",
    "        shuffle=False,\n",
    "        batch_size=32,\n",
    "        **tokenizer_args):\n",
    "\n",
    "    dataset = PriceMatchNLPData(df, text_col, label_col, **tokenizer_args)\n",
    "    dataloader = DataLoader(dataset, shuffle=shuffle,\n",
    "                            batch_size=batch_size, num_workers=os.cpu_count())\n",
    "\n",
    "    return dataloader"
   ]
  },
  {
   "cell_type": "markdown",
   "id": "subtle-transsexual",
   "metadata": {
    "papermill": {
     "duration": 0.02574,
     "end_time": "2021-05-09T03:43:20.443209",
     "exception": false,
     "start_time": "2021-05-09T03:43:20.417469",
     "status": "completed"
    },
    "tags": []
   },
   "source": [
    "# IMG Model Utils"
   ]
  },
  {
   "cell_type": "code",
   "execution_count": 8,
   "id": "domestic-beatles",
   "metadata": {
    "execution": {
     "iopub.execute_input": "2021-05-09T03:43:20.506220Z",
     "iopub.status.busy": "2021-05-09T03:43:20.504976Z",
     "iopub.status.idle": "2021-05-09T03:43:20.507669Z",
     "shell.execute_reply": "2021-05-09T03:43:20.507285Z"
    },
    "papermill": {
     "duration": 0.038524,
     "end_time": "2021-05-09T03:43:20.507783",
     "exception": false,
     "start_time": "2021-05-09T03:43:20.469259",
     "status": "completed"
    },
    "tags": []
   },
   "outputs": [],
   "source": [
    "import torch\n",
    "import torch.nn as nn\n",
    "\n",
    "\n",
    "class ShopeeIMGModel(nn.Module):\n",
    "\n",
    "    def __init__(self, model_path, num_classes, dropout,\n",
    "                 margin_func, feature_dim=512, **margin_params):\n",
    "        super(ShopeeIMGModel, self).__init__()\n",
    "\n",
    "        self.feature_dim = feature_dim\n",
    "\n",
    "        self.model = torch.load(model_path)\n",
    "\n",
    "        if 'efficientnet' in model_path.name:\n",
    "            self.model.classifier = nn.Identity()\n",
    "            self.model.global_pool = nn.Identity()\n",
    "\n",
    "        elif 'nfnet' in model_path.name:\n",
    "            self.model.head.fc = nn.Identity()\n",
    "            self.model.head.global_pool = nn.Identity()\n",
    "\n",
    "        self.pooling = nn.AdaptiveAvgPool2d(1)\n",
    "        self.dropout = nn.Dropout(dropout)\n",
    "        self.lin = nn.Linear(self.model.num_features, self.feature_dim)\n",
    "        self.bn = nn.BatchNorm1d(self.feature_dim)\n",
    "        self.arc_margin = margin_func(\n",
    "            in_features=self.feature_dim,\n",
    "            out_features=num_classes,\n",
    "            **margin_params)\n",
    "\n",
    "    def forward(self, image, label):\n",
    "\n",
    "        x = self.extract_features(image)\n",
    "        x = self.arc_margin(x, label)\n",
    "\n",
    "        return x\n",
    "\n",
    "    def extract_features(self, image):\n",
    "\n",
    "        batch_size = image.shape[0]\n",
    "        x = self.model(image)\n",
    "        x = self.pooling(x).view(batch_size, -1)\n",
    "        x = self.dropout(x)\n",
    "        x = self.lin(x)\n",
    "        x = self.bn(x)\n",
    "\n",
    "        return x"
   ]
  },
  {
   "cell_type": "code",
   "execution_count": 9,
   "id": "lasting-railway",
   "metadata": {
    "execution": {
     "iopub.execute_input": "2021-05-09T03:43:20.567319Z",
     "iopub.status.busy": "2021-05-09T03:43:20.566592Z",
     "iopub.status.idle": "2021-05-09T03:43:20.570195Z",
     "shell.execute_reply": "2021-05-09T03:43:20.569735Z"
    },
    "papermill": {
     "duration": 0.036487,
     "end_time": "2021-05-09T03:43:20.570311",
     "exception": false,
     "start_time": "2021-05-09T03:43:20.533824",
     "status": "completed"
    },
    "tags": []
   },
   "outputs": [],
   "source": [
    "class PriceMatchImgData(Dataset):\n",
    "    def __init__(self, df, img_folder, transforms, img_path_col='image',\n",
    "                 label_col=None):\n",
    "\n",
    "        self.df = df.reset_index(drop=True)\n",
    "        self.img_folder = img_folder\n",
    "        self.img_path_col = img_path_col\n",
    "        self.label_col = label_col\n",
    "        self.transforms = transforms\n",
    "\n",
    "        if self.label_col is not None:\n",
    "            self.df = encode_label(\n",
    "                self.df, col_to_encode=label_col, col_encoded=label_col)\n",
    "\n",
    "    def __len__(self):\n",
    "        return len(self.df)\n",
    "\n",
    "    def __getitem__(self, idx):\n",
    "\n",
    "        row = self.df.iloc[idx]\n",
    "        img_path = self.img_folder / row[self.img_path_col]\n",
    "        image = cv2.imread(img_path.as_posix())\n",
    "        image = cv2.cvtColor(image, cv2.COLOR_BGR2RGB)\n",
    "\n",
    "        augmented = self.transforms(image=image)\n",
    "        image = augmented['image']\n",
    "\n",
    "        data = dict(image=image)\n",
    "\n",
    "        if self.label_col is not None:\n",
    "            data['label'] = row[self.label_col]\n",
    "\n",
    "        return data"
   ]
  },
  {
   "cell_type": "code",
   "execution_count": 10,
   "id": "eastern-layer",
   "metadata": {
    "execution": {
     "iopub.execute_input": "2021-05-09T03:43:20.626442Z",
     "iopub.status.busy": "2021-05-09T03:43:20.625963Z",
     "iopub.status.idle": "2021-05-09T03:43:20.629484Z",
     "shell.execute_reply": "2021-05-09T03:43:20.629050Z"
    },
    "papermill": {
     "duration": 0.0334,
     "end_time": "2021-05-09T03:43:20.629580",
     "exception": false,
     "start_time": "2021-05-09T03:43:20.596180",
     "status": "completed"
    },
    "tags": []
   },
   "outputs": [],
   "source": [
    "def get_val_transforms(img_dim):\n",
    "\n",
    "    trans = a.Compose([\n",
    "        a.Resize(img_dim, img_dim, always_apply=True),\n",
    "        a.Normalize(),\n",
    "        ToTensorV2(),\n",
    "    ])\n",
    "\n",
    "    return trans"
   ]
  },
  {
   "cell_type": "code",
   "execution_count": 11,
   "id": "active-nickname",
   "metadata": {
    "execution": {
     "iopub.execute_input": "2021-05-09T03:43:20.693468Z",
     "iopub.status.busy": "2021-05-09T03:43:20.691912Z",
     "iopub.status.idle": "2021-05-09T03:43:20.694144Z",
     "shell.execute_reply": "2021-05-09T03:43:20.694553Z"
    },
    "papermill": {
     "duration": 0.039071,
     "end_time": "2021-05-09T03:43:20.694707",
     "exception": false,
     "start_time": "2021-05-09T03:43:20.655636",
     "status": "completed"
    },
    "tags": []
   },
   "outputs": [],
   "source": [
    "def get_img_data_loader(\n",
    "        df,\n",
    "        img_dim,\n",
    "        img_folder,\n",
    "        img_path_col='image',\n",
    "        label_col=None,\n",
    "        shuffle=False,\n",
    "        batch_size=32):\n",
    "\n",
    "    if label_col is None:\n",
    "        transforms = get_val_transforms(img_dim)\n",
    "    else:\n",
    "        transforms = get_train_transforms(img_dim)\n",
    "\n",
    "    dataset = PriceMatchImgData(\n",
    "        df, img_folder, transforms, img_path_col, label_col)\n",
    "\n",
    "    dataloader = DataLoader(dataset, shuffle=shuffle,\n",
    "                            batch_size=batch_size, num_workers=os.cpu_count())\n",
    "\n",
    "    return dataloader\n"
   ]
  },
  {
   "cell_type": "code",
   "execution_count": 12,
   "id": "involved-rates",
   "metadata": {
    "execution": {
     "iopub.execute_input": "2021-05-09T03:43:20.754610Z",
     "iopub.status.busy": "2021-05-09T03:43:20.753991Z",
     "iopub.status.idle": "2021-05-09T03:43:20.756709Z",
     "shell.execute_reply": "2021-05-09T03:43:20.757084Z"
    },
    "papermill": {
     "duration": 0.036008,
     "end_time": "2021-05-09T03:43:20.757214",
     "exception": false,
     "start_time": "2021-05-09T03:43:20.721206",
     "status": "completed"
    },
    "tags": []
   },
   "outputs": [],
   "source": [
    "def generate_embeddings(model, dataloader, device, feature_dim):\n",
    "\n",
    "    model.eval()\n",
    "    pbar = tqdm(\n",
    "        enumerate(dataloader),\n",
    "        total=len(dataloader),\n",
    "        desc='>> Generating embeddings'\n",
    "    )\n",
    "    batch_size = dataloader.batch_size\n",
    "    emb_arr = np.zeros(\n",
    "        (len(dataloader.dataset), feature_dim), dtype=np.float32)\n",
    "\n",
    "    for i, data in pbar:\n",
    "\n",
    "        data = dict((k, v.to(device)) for k, v in data.items())\n",
    "\n",
    "        # Compute output & loss\n",
    "        with torch.no_grad():\n",
    "            features = model.extract_features(**data)\n",
    "\n",
    "        features = features.cpu().numpy()\n",
    "\n",
    "        emb_arr[i*batch_size:(i+1)*batch_size] = features\n",
    "\n",
    "    return emb_arr"
   ]
  },
  {
   "cell_type": "code",
   "execution_count": 13,
   "id": "stunning-shame",
   "metadata": {
    "execution": {
     "iopub.execute_input": "2021-05-09T03:43:20.815933Z",
     "iopub.status.busy": "2021-05-09T03:43:20.814553Z",
     "iopub.status.idle": "2021-05-09T03:43:20.816834Z",
     "shell.execute_reply": "2021-05-09T03:43:20.817301Z"
    },
    "papermill": {
     "duration": 0.03375,
     "end_time": "2021-05-09T03:43:20.817426",
     "exception": false,
     "start_time": "2021-05-09T03:43:20.783676",
     "status": "completed"
    },
    "tags": []
   },
   "outputs": [],
   "source": [
    "def load_model(model_class, state_dict_path, device, final_layer_key, **model_config):\n",
    "    \"\"\"\n",
    "    For `final_layer_key`, use 'lin.bias' for old model, 'arc_margin.weight' for new model\n",
    "    \"\"\"\n",
    "    state_dict = torch.load(state_dict_path, map_location=device)\n",
    "    output_dim = len(state_dict[final_layer_key])\n",
    "    model = model_class(num_classes=output_dim, **model_config)\n",
    "    model.load_state_dict(state_dict)\n",
    "    \n",
    "    return model"
   ]
  },
  {
   "cell_type": "markdown",
   "id": "boxed-press",
   "metadata": {
    "papermill": {
     "duration": 0.026894,
     "end_time": "2021-05-09T03:43:20.870954",
     "exception": false,
     "start_time": "2021-05-09T03:43:20.844060",
     "status": "completed"
    },
    "tags": []
   },
   "source": [
    "# KNN Utils"
   ]
  },
  {
   "cell_type": "code",
   "execution_count": 14,
   "id": "recovered-karen",
   "metadata": {
    "execution": {
     "iopub.execute_input": "2021-05-09T03:43:20.932352Z",
     "iopub.status.busy": "2021-05-09T03:43:20.931675Z",
     "iopub.status.idle": "2021-05-09T03:43:20.934648Z",
     "shell.execute_reply": "2021-05-09T03:43:20.935027Z"
    },
    "papermill": {
     "duration": 0.037687,
     "end_time": "2021-05-09T03:43:20.935154",
     "exception": false,
     "start_time": "2021-05-09T03:43:20.897467",
     "status": "completed"
    },
    "tags": []
   },
   "outputs": [],
   "source": [
    "def faiss_knn_cosine(\n",
    "        emb_arr: np.ndarray,\n",
    "        query_idx: List,\n",
    "        neighbors: int = 50,\n",
    "        chunksize: int = 512,\n",
    "        use_gpu: bool = True) -> Tuple[np.ndarray, np.ndarray]:\n",
    "    \n",
    "    # Infer feature dimension from emb_arr\n",
    "    dim = emb_arr.shape[1]\n",
    "\n",
    "    # Cast embeddings to float32 (Faiss only support this)\n",
    "    emb_arr = emb_arr.astype(np.float32)\n",
    "\n",
    "    # Normalize the emb arr in place\n",
    "    faiss.normalize_L2(emb_arr)\n",
    "\n",
    "    # Initialize Faiss Index (GPU)\n",
    "    index = faiss.IndexFlatIP(dim)\n",
    "    \n",
    "    if use_gpu:\n",
    "        res = faiss.StandardGpuResources()\n",
    "        index = faiss.index_cpu_to_gpu(res, 0, index)\n",
    "        \n",
    "    index.add(emb_arr)\n",
    "    \n",
    "    # Find neighbors\n",
    "\n",
    "    chunks = np.ceil(len(query_idx) / chunksize).astype(int)\n",
    "\n",
    "    for i in tqdm(range(chunks), total=chunks, desc='>> Finding Neighbours'):\n",
    "\n",
    "        query_idx_sub = query_idx[i*chunksize:(i+1)*chunksize]\n",
    "\n",
    "        chunk_dists, chunk_indices = index.search(\n",
    "            emb_arr[query_idx_sub], neighbors)\n",
    "\n",
    "        if i == 0:\n",
    "            dists = chunk_dists\n",
    "            indices = chunk_indices\n",
    "        else:\n",
    "            dists = np.row_stack([dists, chunk_dists])\n",
    "            indices = np.row_stack([indices, chunk_indices])\n",
    "\n",
    "    return dists, indices"
   ]
  },
  {
   "cell_type": "code",
   "execution_count": 15,
   "id": "super-logging",
   "metadata": {
    "execution": {
     "iopub.execute_input": "2021-05-09T03:43:20.996813Z",
     "iopub.status.busy": "2021-05-09T03:43:20.996315Z",
     "iopub.status.idle": "2021-05-09T03:43:21.000058Z",
     "shell.execute_reply": "2021-05-09T03:43:20.999620Z"
    },
    "papermill": {
     "duration": 0.037553,
     "end_time": "2021-05-09T03:43:21.000166",
     "exception": false,
     "start_time": "2021-05-09T03:43:20.962613",
     "status": "completed"
    },
    "tags": []
   },
   "outputs": [],
   "source": [
    "def faiss_knn_hamming(\n",
    "        emb_arr: np.ndarray,\n",
    "        query_idx: List,\n",
    "        neighbors: int = 50,\n",
    "        chunksize: int = 512) -> Tuple[np.ndarray, np.ndarray]:\n",
    "    \"\"\"\n",
    "    Binary arr should be packed to their bytes equivalent, before\n",
    "    the packed array is passed as `emb_arr`\n",
    "\n",
    "    i.e.\n",
    "        emb_arr = array([0, 0, 0, 0, 0, 0, 1, 0])\n",
    "        packed_arr = np.packbits(emb_arr) # array([2], dtype=uint8)\n",
    "\n",
    "    Note:\n",
    "        The distance returned is actually similarity ranges from 0 to 1.\n",
    "        1 means both items are exactly the same.\n",
    "    \"\"\"\n",
    "    # Infer feature dimension from emb_arr\n",
    "    dim = emb_arr.shape[1] * 8\n",
    "\n",
    "    # Cast embeddings to float32 (Faiss only support this)\n",
    "    emb_arr = emb_arr.astype(np.uint8)\n",
    "\n",
    "    # Initialize Faiss Index\n",
    "    index = faiss.IndexBinaryFlat(dim)\n",
    "    index.add(emb_arr)\n",
    "\n",
    "    # Find neighbors\n",
    "    chunks = np.ceil(len(query_idx) / chunksize).astype(int)\n",
    "\n",
    "    for i in tqdm(range(chunks), total=chunks, desc='>> Finding Neighbours'):\n",
    "\n",
    "        query_idx_sub = query_idx[i*chunksize:(i+1)*chunksize]\n",
    "\n",
    "        chunk_dists, chunk_indices = index.search(\n",
    "            emb_arr[query_idx_sub], neighbors)\n",
    "\n",
    "        if i == 0:\n",
    "            dists = chunk_dists\n",
    "            indices = chunk_indices\n",
    "        else:\n",
    "            dists = np.row_stack([dists, chunk_dists])\n",
    "            indices = np.row_stack([indices, chunk_indices])\n",
    "\n",
    "    # Change dist to similarity\n",
    "    dists = 1 - (dists / dim)\n",
    "\n",
    "    return dists, indices\n"
   ]
  },
  {
   "cell_type": "code",
   "execution_count": 16,
   "id": "alternative-brunei",
   "metadata": {
    "execution": {
     "iopub.execute_input": "2021-05-09T03:43:21.064803Z",
     "iopub.status.busy": "2021-05-09T03:43:21.064286Z",
     "iopub.status.idle": "2021-05-09T03:43:21.068217Z",
     "shell.execute_reply": "2021-05-09T03:43:21.067786Z"
    },
    "papermill": {
     "duration": 0.041461,
     "end_time": "2021-05-09T03:43:21.068333",
     "exception": false,
     "start_time": "2021-05-09T03:43:21.026872",
     "status": "completed"
    },
    "tags": []
   },
   "outputs": [],
   "source": [
    "def get_similar_items(\n",
    "        df: pd.DataFrame, emb: np.ndarray, val_idx: List,\n",
    "        idx_to_id_col_mapping: Dict, id_col: str = 'posting_id',\n",
    "        metric: str = 'cosine',\n",
    "        n: int = 50, chunksize: int = 512) -> pd.DataFrame:\n",
    "    \"\"\"\n",
    "    Given a `df`, its embeddings `emb` (must be of the same length as `df`),\n",
    "    and the `val_idx` (row index for validation, must correspond to the\n",
    "    indices in `df`), find the number of closest `n` neighbors in batches\n",
    "    using `chunksize`.\n",
    "\n",
    "    `id_col` is the item id that is used to identify the neighbors, and\n",
    "    `idx_to_id_col_mapping` is the row index to id mapping to map the nearest\n",
    "    neighbors index (returned by faiss) to the actual item id.\n",
    "\n",
    "    `metric` should be either cosine or hamming.\n",
    "\n",
    "    After search, a similarity df `sim_df` is returned, which contains the\n",
    "    row index, distance and item id of each row's top n neighbors.\n",
    "    \"\"\"\n",
    "    assert len(emb) == len(df),\\\n",
    "        f'Num of emb {len(emb)} != Num of rows in df {len(df)}'\n",
    "    assert type(val_idx) is list, 'val_idx must be a list'\n",
    "    assert len(set(val_idx)) <= len(df),\\\n",
    "        f'Num of elements in val_idx {len(set(val_idx))}'\\\n",
    "        f' > df len {len(df)}'\n",
    "    assert max(val_idx) < len(df),\\\n",
    "        f'{max(val_idx)} is out of range for'\\\n",
    "        f'df of shape {df.shape}'\n",
    "\n",
    "    if metric == 'cosine':\n",
    "        distances, indices = faiss_knn_cosine(\n",
    "            emb, val_idx, n, chunksize)\n",
    "    elif metric == 'hamming':\n",
    "        distances, indices = faiss_knn_hamming(\n",
    "            emb, val_idx, n, chunksize)\n",
    "\n",
    "    sim_df_base = df.loc[val_idx, [id_col]].reset_index(drop=True).copy()\n",
    "    sim_df_base['neighbors'] = val_idx\n",
    "    sim_df_base['distances'] = 1.0\n",
    "\n",
    "    sim_df = sim_df_base.copy()\n",
    "\n",
    "    sim_df['neighbors'] = pd.Series(indices.tolist())\n",
    "    sim_df['distances'] = pd.Series(distances.tolist())\n",
    "\n",
    "    # Exploding multiple columns of equal len & sequence\n",
    "    # https://stackoverflow.com/a/59330040/10841164\n",
    "    sim_df = (\n",
    "        sim_df\n",
    "        .set_index(id_col)\n",
    "        .apply(pd.Series.explode)\n",
    "        .reset_index()\n",
    "    )\n",
    "\n",
    "    # This step makes sure each item should at least be its own neighbour\n",
    "    sim_df = (\n",
    "        sim_df_base\n",
    "        .append(sim_df)\n",
    "        .drop_duplicates(subset=[id_col, 'neighbors'])\n",
    "        .reset_index(drop=True)\n",
    "    )\n",
    "\n",
    "    sim_df['matches'] = sim_df['neighbors'].map(idx_to_id_col_mapping)\n",
    "\n",
    "    return sim_df"
   ]
  },
  {
   "cell_type": "code",
   "execution_count": 17,
   "id": "dramatic-imperial",
   "metadata": {
    "execution": {
     "iopub.execute_input": "2021-05-09T03:43:21.127460Z",
     "iopub.status.busy": "2021-05-09T03:43:21.126896Z",
     "iopub.status.idle": "2021-05-09T03:43:21.130494Z",
     "shell.execute_reply": "2021-05-09T03:43:21.130893Z"
    },
    "papermill": {
     "duration": 0.035437,
     "end_time": "2021-05-09T03:43:21.131028",
     "exception": false,
     "start_time": "2021-05-09T03:43:21.095591",
     "status": "completed"
    },
    "tags": []
   },
   "outputs": [],
   "source": [
    "def generate_idx_to_col_map(\n",
    "        df: pd.DataFrame, col: str = 'posting_id') -> Dict:\n",
    "    \"\"\"\n",
    "    Generate row index to column value mapping as a dictionary\n",
    "    \"\"\"\n",
    "    idx_to_col_map = df[col].to_dict()\n",
    "\n",
    "    return idx_to_col_map"
   ]
  },
  {
   "cell_type": "markdown",
   "id": "thermal-manchester",
   "metadata": {
    "papermill": {
     "duration": 0.026837,
     "end_time": "2021-05-09T03:43:21.185209",
     "exception": false,
     "start_time": "2021-05-09T03:43:21.158372",
     "status": "completed"
    },
    "tags": []
   },
   "source": [
    "# General Config"
   ]
  },
  {
   "cell_type": "code",
   "execution_count": 18,
   "id": "conservative-guard",
   "metadata": {
    "execution": {
     "iopub.execute_input": "2021-05-09T03:43:21.849895Z",
     "iopub.status.busy": "2021-05-09T03:43:21.848982Z",
     "iopub.status.idle": "2021-05-09T03:43:22.033115Z",
     "shell.execute_reply": "2021-05-09T03:43:22.033591Z"
    },
    "papermill": {
     "duration": 0.821431,
     "end_time": "2021-05-09T03:43:22.033765",
     "exception": false,
     "start_time": "2021-05-09T03:43:21.212334",
     "status": "completed"
    },
    "tags": []
   },
   "outputs": [],
   "source": [
    "# KNN Config\n",
    "KNN_N = 51 # Including self-match\n",
    "CHUNKSIZE = 1024\n",
    "\n",
    "# Others\n",
    "DEVICE = 'cuda' if torch.cuda.is_available() else 'cpu'\n",
    "LOSS_PARAMS={\"m\": 0.5, \"s\": 30.0, \"easy_margin\": False}\n",
    "IMG_FOLDER = Path('../input/shopee-product-matching/test_images/')\n",
    "\n",
    "# Dataframes\n",
    "TEST_DF_PATH = '../input/shopee-product-matching/test.csv'\n",
    "test_df = pd.read_csv(TEST_DF_PATH)\n",
    "\n",
    "TRAIN_DF_PATH = '../input/shopee-product-matching/train.csv'\n",
    "train_df = pd.read_csv(TRAIN_DF_PATH)\n",
    "\n",
    "idx_to_id_col_mapping = generate_idx_to_col_map(test_df)"
   ]
  },
  {
   "cell_type": "markdown",
   "id": "adult-earth",
   "metadata": {
    "papermill": {
     "duration": 0.030481,
     "end_time": "2021-05-09T03:43:22.096479",
     "exception": false,
     "start_time": "2021-05-09T03:43:22.065998",
     "status": "completed"
    },
    "tags": []
   },
   "source": [
    "# TFIDF"
   ]
  },
  {
   "cell_type": "code",
   "execution_count": 19,
   "id": "loose-meeting",
   "metadata": {
    "execution": {
     "iopub.execute_input": "2021-05-09T03:43:22.177706Z",
     "iopub.status.busy": "2021-05-09T03:43:22.177059Z",
     "iopub.status.idle": "2021-05-09T03:43:22.685146Z",
     "shell.execute_reply": "2021-05-09T03:43:22.684292Z"
    },
    "papermill": {
     "duration": 0.55789,
     "end_time": "2021-05-09T03:43:22.685296",
     "exception": false,
     "start_time": "2021-05-09T03:43:22.127406",
     "status": "completed"
    },
    "tags": []
   },
   "outputs": [
    {
     "name": "stderr",
     "output_type": "stream",
     "text": [
      ">> Finding Neighbours: 100%|██████████| 1/1 [00:00<00:00, 641.33it/s]\n"
     ]
    }
   ],
   "source": [
    "max_features = 25_000\n",
    "\n",
    "vect = TfidfVectorizer(max_features=max_features, binary=True, stop_words='english')\n",
    "vect.fit(test_df['title'])\n",
    "tfidf_emb_arr = vect.transform(test_df['title']).astype(np.float32).toarray()\n",
    "\n",
    "# Find neighbors & Generate submission\n",
    "\n",
    "idx_to_id_col_mapping = generate_idx_to_col_map(test_df)\n",
    "\n",
    "sim_df_tfidf = get_similar_items(\n",
    "    df=test_df,\n",
    "    emb=tfidf_emb_arr,\n",
    "    val_idx=test_df.index.tolist(),\n",
    "    idx_to_id_col_mapping=idx_to_id_col_mapping,\n",
    "    id_col='posting_id',\n",
    "    n=50,\n",
    "    chunksize=8\n",
    ")\n",
    "\n",
    "del tfidf_emb_arr"
   ]
  },
  {
   "cell_type": "markdown",
   "id": "developed-barrier",
   "metadata": {
    "papermill": {
     "duration": 0.033271,
     "end_time": "2021-05-09T03:43:22.752045",
     "exception": false,
     "start_time": "2021-05-09T03:43:22.718774",
     "status": "completed"
    },
    "tags": []
   },
   "source": [
    "# Indobert (NLP)"
   ]
  },
  {
   "cell_type": "code",
   "execution_count": 20,
   "id": "broadband-resort",
   "metadata": {
    "execution": {
     "iopub.execute_input": "2021-05-09T03:43:22.823003Z",
     "iopub.status.busy": "2021-05-09T03:43:22.821339Z",
     "iopub.status.idle": "2021-05-09T03:43:22.823726Z",
     "shell.execute_reply": "2021-05-09T03:43:22.824147Z"
    },
    "papermill": {
     "duration": 0.038736,
     "end_time": "2021-05-09T03:43:22.824309",
     "exception": false,
     "start_time": "2021-05-09T03:43:22.785573",
     "status": "completed"
    },
    "tags": []
   },
   "outputs": [],
   "source": [
    "# NLP Model Config\n",
    "NLP_PRETRAINED_MODEL_DIR = '../input/price-matchindobert-lite-p2-mlm-checkpoint/'\n",
    "NLP_PRETRAINED_TOKENIZER_DIR = '../input/indobert-lite-p2-tokenizer-config/'\n",
    "NLP_STATE_DICT = Path('../input/price-match-final-models/indobert_fold_0_best_train_loss.pt')\n",
    "NLP_BATCH_SIZE = 512\n",
    "MODEL_MAX_LENGTH = 48"
   ]
  },
  {
   "cell_type": "code",
   "execution_count": 21,
   "id": "asian-miniature",
   "metadata": {
    "execution": {
     "iopub.execute_input": "2021-05-09T03:43:22.886026Z",
     "iopub.status.busy": "2021-05-09T03:43:22.885441Z",
     "iopub.status.idle": "2021-05-09T03:43:23.108999Z",
     "shell.execute_reply": "2021-05-09T03:43:23.108124Z"
    },
    "papermill": {
     "duration": 0.256352,
     "end_time": "2021-05-09T03:43:23.109134",
     "exception": false,
     "start_time": "2021-05-09T03:43:22.852782",
     "status": "completed"
    },
    "tags": []
   },
   "outputs": [],
   "source": [
    "test_nlp_loader = get_nlp_data_loader(\n",
    "        test_df, text_col='title', label_col=None,\n",
    "        shuffle=False, batch_size=NLP_BATCH_SIZE,\n",
    "        pretrained_model_name_or_path=NLP_PRETRAINED_TOKENIZER_DIR,\n",
    "        model_max_length=MODEL_MAX_LENGTH)"
   ]
  },
  {
   "cell_type": "code",
   "execution_count": 22,
   "id": "industrial-donna",
   "metadata": {
    "execution": {
     "iopub.execute_input": "2021-05-09T03:43:23.175600Z",
     "iopub.status.busy": "2021-05-09T03:43:23.174886Z",
     "iopub.status.idle": "2021-05-09T03:43:32.395956Z",
     "shell.execute_reply": "2021-05-09T03:43:32.396423Z"
    },
    "papermill": {
     "duration": 9.258627,
     "end_time": "2021-05-09T03:43:32.396596",
     "exception": false,
     "start_time": "2021-05-09T03:43:23.137969",
     "status": "completed"
    },
    "tags": []
   },
   "outputs": [
    {
     "name": "stderr",
     "output_type": "stream",
     "text": [
      "Some weights of AlbertModel were not initialized from the model checkpoint at ../input/price-matchindobert-lite-p2-mlm-checkpoint/ and are newly initialized: ['albert.pooler.weight', 'albert.pooler.bias']\n",
      "You should probably TRAIN this model on a down-stream task to be able to use it for predictions and inference.\n",
      ">> Generating embeddings: 100%|██████████| 1/1 [00:00<00:00,  1.04it/s]\n"
     ]
    }
   ],
   "source": [
    "# for i, state_dict_path in enumerate(NLP_STATE_DICT_DIR.glob('*.pt')):\n",
    "    \n",
    "#     # Generate embeddings\n",
    "#     model = load_model(model_class=ShopeeNLPModel,\n",
    "#                        state_dict_path=state_dict_path,\n",
    "#                        device=DEVICE,\n",
    "#                        final_layer_key='arc_margin.weight',\n",
    "#                        model_path=NLP_PRETRAINED_MODEL_DIR,\n",
    "#                        dropout=0.0,\n",
    "#                        margin_func=ArcMarginProduct,\n",
    "#                        **LOSS_PARAMS\n",
    "#                       )\n",
    "\n",
    "#     model = model.to(DEVICE)\n",
    "    \n",
    "#     if i == 0:\n",
    "#         nlp_emb_arr = generate_embeddings(model, test_nlp_loader, DEVICE, model.feature_dim)\n",
    "        \n",
    "#     else:\n",
    "#         nlp_emb_arr += generate_embeddings(model, test_nlp_loader, DEVICE, model.feature_dim)\n",
    "\n",
    "\n",
    "# Generate embeddings\n",
    "model = load_model(model_class=ShopeeNLPModel,\n",
    "                   state_dict_path=NLP_STATE_DICT,\n",
    "                   device=DEVICE,\n",
    "                   final_layer_key='arc_margin.weight',\n",
    "                   model_path=NLP_PRETRAINED_MODEL_DIR,\n",
    "                   dropout=0.0,\n",
    "                   margin_func=ArcMarginProduct,\n",
    "                   **LOSS_PARAMS\n",
    "                  )\n",
    "\n",
    "model = model.to(DEVICE)\n",
    "\n",
    "nlp_emb_arr = generate_embeddings(model, test_nlp_loader, DEVICE, model.feature_dim)\n",
    "\n",
    "normalize = lambda arr : (arr - arr.mean(axis=0)) / arr.std(axis=0)\n",
    "\n",
    "nlp_emb_arr = normalize(nlp_emb_arr)"
   ]
  },
  {
   "cell_type": "code",
   "execution_count": 23,
   "id": "bright-blood",
   "metadata": {
    "execution": {
     "iopub.execute_input": "2021-05-09T03:43:32.471255Z",
     "iopub.status.busy": "2021-05-09T03:43:32.470600Z",
     "iopub.status.idle": "2021-05-09T03:43:32.645563Z",
     "shell.execute_reply": "2021-05-09T03:43:32.645104Z"
    },
    "papermill": {
     "duration": 0.216381,
     "end_time": "2021-05-09T03:43:32.645704",
     "exception": false,
     "start_time": "2021-05-09T03:43:32.429323",
     "status": "completed"
    },
    "tags": []
   },
   "outputs": [
    {
     "name": "stderr",
     "output_type": "stream",
     "text": [
      ">> Finding Neighbours: 100%|██████████| 1/1 [00:00<00:00, 698.93it/s]\n"
     ]
    }
   ],
   "source": [
    "# Find neighbors & Generate submission\n",
    "\n",
    "sim_df_nlp = get_similar_items(\n",
    "    df=test_df,\n",
    "    emb=nlp_emb_arr,\n",
    "    val_idx=test_df.index.tolist(),\n",
    "    idx_to_id_col_mapping=idx_to_id_col_mapping,\n",
    "    id_col='posting_id',\n",
    "    n=KNN_N,\n",
    "    chunksize=5120\n",
    ")\n",
    "\n",
    "del nlp_emb_arr, model"
   ]
  },
  {
   "cell_type": "markdown",
   "id": "damaged-winter",
   "metadata": {
    "papermill": {
     "duration": 0.031179,
     "end_time": "2021-05-09T03:43:32.708984",
     "exception": false,
     "start_time": "2021-05-09T03:43:32.677805",
     "status": "completed"
    },
    "tags": []
   },
   "source": [
    "# EfficientNet B0 (IMG)"
   ]
  },
  {
   "cell_type": "code",
   "execution_count": 24,
   "id": "tutorial-respect",
   "metadata": {
    "execution": {
     "iopub.execute_input": "2021-05-09T03:43:32.776331Z",
     "iopub.status.busy": "2021-05-09T03:43:32.775440Z",
     "iopub.status.idle": "2021-05-09T03:43:32.777695Z",
     "shell.execute_reply": "2021-05-09T03:43:32.778177Z"
    },
    "papermill": {
     "duration": 0.038142,
     "end_time": "2021-05-09T03:43:32.778312",
     "exception": false,
     "start_time": "2021-05-09T03:43:32.740170",
     "status": "completed"
    },
    "tags": []
   },
   "outputs": [],
   "source": [
    "# # Img model config\n",
    "# IMG_DIM = 512\n",
    "# IMG_BATCH_SIZE = 128\n",
    "# IMG_STATE_DICT_DIR = Path('../input/price-match-final-models-4fold-grouped/eb0_final_grouped/')\n",
    "# IMG_PRETRAINED_MODEL_DIR = Path('../input/efficient-net-b0-b3/efficientnet_b0.pth')\n",
    "# LOSS_PARAMS={\"m\": 0.5, \"s\": 30.0, \"easy_margin\": False}"
   ]
  },
  {
   "cell_type": "code",
   "execution_count": 25,
   "id": "integrated-letters",
   "metadata": {
    "execution": {
     "iopub.execute_input": "2021-05-09T03:43:32.846141Z",
     "iopub.status.busy": "2021-05-09T03:43:32.845291Z",
     "iopub.status.idle": "2021-05-09T03:43:32.848053Z",
     "shell.execute_reply": "2021-05-09T03:43:32.847504Z"
    },
    "papermill": {
     "duration": 0.038218,
     "end_time": "2021-05-09T03:43:32.848165",
     "exception": false,
     "start_time": "2021-05-09T03:43:32.809947",
     "status": "completed"
    },
    "tags": []
   },
   "outputs": [],
   "source": [
    "# # Prepare dataloader\n",
    "\n",
    "# test_img_loader = get_img_data_loader(\n",
    "#         test_df, img_dim=IMG_DIM,\n",
    "#         img_folder=IMG_FOLDER,\n",
    "#         img_path_col='image',\n",
    "#         label_col=None,\n",
    "#         shuffle=False,\n",
    "#         batch_size=IMG_BATCH_SIZE)"
   ]
  },
  {
   "cell_type": "code",
   "execution_count": 26,
   "id": "vocational-islam",
   "metadata": {
    "execution": {
     "iopub.execute_input": "2021-05-09T03:43:32.916394Z",
     "iopub.status.busy": "2021-05-09T03:43:32.915598Z",
     "iopub.status.idle": "2021-05-09T03:43:32.918026Z",
     "shell.execute_reply": "2021-05-09T03:43:32.918456Z"
    },
    "papermill": {
     "duration": 0.038406,
     "end_time": "2021-05-09T03:43:32.918601",
     "exception": false,
     "start_time": "2021-05-09T03:43:32.880195",
     "status": "completed"
    },
    "tags": []
   },
   "outputs": [],
   "source": [
    "# for i, state_dict_path in enumerate(IMG_STATE_DICT_DIR.glob('*.pt')):\n",
    "        \n",
    "#     # Generate embeddings\n",
    "#     model = load_model(model_class=ShopeeIMGModel,\n",
    "#                        state_dict_path=state_dict_path,\n",
    "#                        device=DEVICE,\n",
    "#                        final_layer_key='arc_margin.weight',\n",
    "#                        dropout=0.0,\n",
    "#                        model_path=IMG_PRETRAINED_MODEL_DIR,\n",
    "#                        margin_func=ArcMarginProduct,\n",
    "#                        **LOSS_PARAMS\n",
    "#                       )\n",
    "\n",
    "#     model = model.to(DEVICE)\n",
    "\n",
    "#     if i == 0:\n",
    "#         img_emb_arr = generate_embeddings(model, test_img_loader, DEVICE, model.feature_dim)\n",
    "\n",
    "#     else:\n",
    "#         img_emb_arr += generate_embeddings(model, test_img_loader, DEVICE, model.feature_dim)"
   ]
  },
  {
   "cell_type": "code",
   "execution_count": 27,
   "id": "coated-spare",
   "metadata": {
    "execution": {
     "iopub.execute_input": "2021-05-09T03:43:32.986254Z",
     "iopub.status.busy": "2021-05-09T03:43:32.985516Z",
     "iopub.status.idle": "2021-05-09T03:43:32.988327Z",
     "shell.execute_reply": "2021-05-09T03:43:32.987932Z"
    },
    "papermill": {
     "duration": 0.038212,
     "end_time": "2021-05-09T03:43:32.988434",
     "exception": false,
     "start_time": "2021-05-09T03:43:32.950222",
     "status": "completed"
    },
    "tags": []
   },
   "outputs": [],
   "source": [
    "# # Find neighbors & Generate submission\n",
    "\n",
    "# sim_df_img_eb0 = get_similar_items(\n",
    "#     df=test_df,\n",
    "#     emb=img_emb_arr,\n",
    "#     val_idx=test_df.index.tolist(),\n",
    "#     idx_to_id_col_mapping=idx_to_id_col_mapping,\n",
    "#     id_col='posting_id',\n",
    "#     n=KNN_N,\n",
    "#     chunksize=5120\n",
    "# )\n",
    "\n",
    "# del img_emb_arr, model"
   ]
  },
  {
   "cell_type": "markdown",
   "id": "moral-garage",
   "metadata": {
    "papermill": {
     "duration": 0.044113,
     "end_time": "2021-05-09T03:43:33.065191",
     "exception": false,
     "start_time": "2021-05-09T03:43:33.021078",
     "status": "completed"
    },
    "tags": []
   },
   "source": [
    "# EfficientNet B3 (IMG)"
   ]
  },
  {
   "cell_type": "code",
   "execution_count": 28,
   "id": "completed-today",
   "metadata": {
    "execution": {
     "iopub.execute_input": "2021-05-09T03:43:33.151915Z",
     "iopub.status.busy": "2021-05-09T03:43:33.150947Z",
     "iopub.status.idle": "2021-05-09T03:43:33.153248Z",
     "shell.execute_reply": "2021-05-09T03:43:33.153674Z"
    },
    "papermill": {
     "duration": 0.039679,
     "end_time": "2021-05-09T03:43:33.153802",
     "exception": false,
     "start_time": "2021-05-09T03:43:33.114123",
     "status": "completed"
    },
    "tags": []
   },
   "outputs": [],
   "source": [
    "# Img model config\n",
    "IMG_DIM = 512\n",
    "IMG_BATCH_SIZE = 64\n",
    "IMG_STATE_DICT_DIR = Path('../input/price-match-final-models-4fold-grouped/eb3_final_grouped/')\n",
    "IMG_PRETRAINED_MODEL_DIR = Path('../input/efficient-net-b0-b3/efficientnet_b3.pth')\n",
    "LOSS_PARAMS={\"m\": 0.5, \"s\": 30.0, \"easy_margin\": False}"
   ]
  },
  {
   "cell_type": "code",
   "execution_count": 29,
   "id": "funky-baking",
   "metadata": {
    "execution": {
     "iopub.execute_input": "2021-05-09T03:43:33.223939Z",
     "iopub.status.busy": "2021-05-09T03:43:33.222843Z",
     "iopub.status.idle": "2021-05-09T03:43:33.225253Z",
     "shell.execute_reply": "2021-05-09T03:43:33.225612Z"
    },
    "papermill": {
     "duration": 0.039566,
     "end_time": "2021-05-09T03:43:33.225755",
     "exception": false,
     "start_time": "2021-05-09T03:43:33.186189",
     "status": "completed"
    },
    "tags": []
   },
   "outputs": [],
   "source": [
    "# Prepare dataloader\n",
    "\n",
    "test_img_loader = get_img_data_loader(\n",
    "        test_df, img_dim=IMG_DIM,\n",
    "        img_folder=IMG_FOLDER,\n",
    "        img_path_col='image',\n",
    "        label_col=None,\n",
    "        shuffle=False,\n",
    "        batch_size=IMG_BATCH_SIZE)"
   ]
  },
  {
   "cell_type": "code",
   "execution_count": 30,
   "id": "affecting-campbell",
   "metadata": {
    "execution": {
     "iopub.execute_input": "2021-05-09T03:43:33.295024Z",
     "iopub.status.busy": "2021-05-09T03:43:33.294471Z",
     "iopub.status.idle": "2021-05-09T03:43:39.987475Z",
     "shell.execute_reply": "2021-05-09T03:43:39.986685Z"
    },
    "papermill": {
     "duration": 6.730328,
     "end_time": "2021-05-09T03:43:39.987612",
     "exception": false,
     "start_time": "2021-05-09T03:43:33.257284",
     "status": "completed"
    },
    "tags": []
   },
   "outputs": [
    {
     "name": "stderr",
     "output_type": "stream",
     "text": [
      ">> Generating embeddings: 100%|██████████| 1/1 [00:00<00:00,  3.79it/s]\n",
      ">> Generating embeddings: 100%|██████████| 1/1 [00:00<00:00,  6.72it/s]\n",
      ">> Generating embeddings: 100%|██████████| 1/1 [00:00<00:00,  6.18it/s]\n",
      ">> Generating embeddings: 100%|██████████| 1/1 [00:00<00:00,  6.68it/s]\n"
     ]
    }
   ],
   "source": [
    "for i, state_dict_path in enumerate(IMG_STATE_DICT_DIR.glob('*.pt')):\n",
    "        \n",
    "    # Generate embeddings\n",
    "    model = load_model(model_class=ShopeeIMGModel,\n",
    "                       state_dict_path=state_dict_path,\n",
    "                       device=DEVICE,\n",
    "                       final_layer_key='arc_margin.weight',\n",
    "                       dropout=0.0,\n",
    "                       model_path=IMG_PRETRAINED_MODEL_DIR,\n",
    "                       margin_func=ArcMarginProduct,\n",
    "                       **LOSS_PARAMS\n",
    "                      )\n",
    "\n",
    "    model = model.to(DEVICE)\n",
    "\n",
    "    if i == 0:\n",
    "        img_emb_arr = generate_embeddings(model, test_img_loader, DEVICE, model.feature_dim)\n",
    "\n",
    "    else:\n",
    "        img_emb_arr += generate_embeddings(model, test_img_loader, DEVICE, model.feature_dim)"
   ]
  },
  {
   "cell_type": "code",
   "execution_count": 31,
   "id": "imported-refrigerator",
   "metadata": {
    "execution": {
     "iopub.execute_input": "2021-05-09T03:43:40.074820Z",
     "iopub.status.busy": "2021-05-09T03:43:40.074022Z",
     "iopub.status.idle": "2021-05-09T03:43:40.300995Z",
     "shell.execute_reply": "2021-05-09T03:43:40.302006Z"
    },
    "papermill": {
     "duration": 0.278095,
     "end_time": "2021-05-09T03:43:40.302321",
     "exception": false,
     "start_time": "2021-05-09T03:43:40.024226",
     "status": "completed"
    },
    "tags": []
   },
   "outputs": [
    {
     "name": "stderr",
     "output_type": "stream",
     "text": [
      ">> Finding Neighbours: 100%|██████████| 1/1 [00:00<00:00, 1579.18it/s]\n"
     ]
    }
   ],
   "source": [
    "# Find neighbors & Generate submission\n",
    "\n",
    "sim_df_img_eb3 = get_similar_items(\n",
    "    df=test_df,\n",
    "    emb=img_emb_arr,\n",
    "    val_idx=test_df.index.tolist(),\n",
    "    idx_to_id_col_mapping=idx_to_id_col_mapping,\n",
    "    id_col='posting_id',\n",
    "    n=KNN_N,\n",
    "    chunksize=5120\n",
    ")\n",
    "\n",
    "del img_emb_arr, model"
   ]
  },
  {
   "cell_type": "markdown",
   "id": "likely-turning",
   "metadata": {
    "papermill": {
     "duration": 0.065221,
     "end_time": "2021-05-09T03:43:40.448659",
     "exception": false,
     "start_time": "2021-05-09T03:43:40.383438",
     "status": "completed"
    },
    "tags": []
   },
   "source": [
    "# Image Phash"
   ]
  },
  {
   "cell_type": "code",
   "execution_count": 32,
   "id": "colored-italic",
   "metadata": {
    "execution": {
     "iopub.execute_input": "2021-05-09T03:43:40.577248Z",
     "iopub.status.busy": "2021-05-09T03:43:40.576475Z",
     "iopub.status.idle": "2021-05-09T03:43:40.578820Z",
     "shell.execute_reply": "2021-05-09T03:43:40.579507Z"
    },
    "papermill": {
     "duration": 0.068874,
     "end_time": "2021-05-09T03:43:40.579686",
     "exception": false,
     "start_time": "2021-05-09T03:43:40.510812",
     "status": "completed"
    },
    "tags": []
   },
   "outputs": [],
   "source": [
    "# Util function to convert hex to hash array\n",
    "hex_to_arr = lambda x: imagehash.hex_to_hash(x).hash.ravel().astype(int)"
   ]
  },
  {
   "cell_type": "code",
   "execution_count": 33,
   "id": "patient-olympus",
   "metadata": {
    "execution": {
     "iopub.execute_input": "2021-05-09T03:43:40.710927Z",
     "iopub.status.busy": "2021-05-09T03:43:40.709685Z",
     "iopub.status.idle": "2021-05-09T03:43:40.712452Z",
     "shell.execute_reply": "2021-05-09T03:43:40.712039Z"
    },
    "papermill": {
     "duration": 0.071379,
     "end_time": "2021-05-09T03:43:40.712562",
     "exception": false,
     "start_time": "2021-05-09T03:43:40.641183",
     "status": "completed"
    },
    "tags": []
   },
   "outputs": [],
   "source": [
    "phash_emb = np.array(test_df['image_phash'].apply(hex_to_arr).tolist())\n",
    "phash_emb = np.packbits(phash_emb, axis=1)"
   ]
  },
  {
   "cell_type": "code",
   "execution_count": 34,
   "id": "inside-football",
   "metadata": {
    "execution": {
     "iopub.execute_input": "2021-05-09T03:43:40.797383Z",
     "iopub.status.busy": "2021-05-09T03:43:40.796817Z",
     "iopub.status.idle": "2021-05-09T03:43:40.844616Z",
     "shell.execute_reply": "2021-05-09T03:43:40.845344Z"
    },
    "papermill": {
     "duration": 0.091182,
     "end_time": "2021-05-09T03:43:40.845483",
     "exception": false,
     "start_time": "2021-05-09T03:43:40.754301",
     "status": "completed"
    },
    "tags": []
   },
   "outputs": [
    {
     "name": "stderr",
     "output_type": "stream",
     "text": [
      ">> Finding Neighbours: 100%|██████████| 1/1 [00:00<00:00, 32.56it/s]\n"
     ]
    }
   ],
   "source": [
    "# Find neighbors & Generate submission\n",
    "\n",
    "idx_to_id_col_mapping = generate_idx_to_col_map(test_df)\n",
    "\n",
    "sim_df_phash = get_similar_items(\n",
    "    df=test_df,\n",
    "    emb=phash_emb,\n",
    "    val_idx=test_df.index.tolist(),\n",
    "    idx_to_id_col_mapping=idx_to_id_col_mapping,\n",
    "    id_col='posting_id',\n",
    "    metric='hamming',\n",
    "    n=50,\n",
    "    chunksize=5120\n",
    ")"
   ]
  },
  {
   "cell_type": "code",
   "execution_count": 35,
   "id": "intermediate-canberra",
   "metadata": {
    "execution": {
     "iopub.execute_input": "2021-05-09T03:43:40.928742Z",
     "iopub.status.busy": "2021-05-09T03:43:40.928236Z",
     "iopub.status.idle": "2021-05-09T03:43:40.971318Z",
     "shell.execute_reply": "2021-05-09T03:43:40.970817Z"
    },
    "papermill": {
     "duration": 0.08741,
     "end_time": "2021-05-09T03:43:40.971432",
     "exception": false,
     "start_time": "2021-05-09T03:43:40.884022",
     "status": "completed"
    },
    "tags": []
   },
   "outputs": [
    {
     "data": {
      "text/html": [
       "<div>\n",
       "<style scoped>\n",
       "    .dataframe tbody tr th:only-of-type {\n",
       "        vertical-align: middle;\n",
       "    }\n",
       "\n",
       "    .dataframe tbody tr th {\n",
       "        vertical-align: top;\n",
       "    }\n",
       "\n",
       "    .dataframe thead th {\n",
       "        text-align: right;\n",
       "    }\n",
       "</style>\n",
       "<table border=\"1\" class=\"dataframe\">\n",
       "  <thead>\n",
       "    <tr style=\"text-align: right;\">\n",
       "      <th></th>\n",
       "      <th>posting_id</th>\n",
       "      <th>matches</th>\n",
       "    </tr>\n",
       "  </thead>\n",
       "  <tbody>\n",
       "    <tr>\n",
       "      <th>0</th>\n",
       "      <td>test_2255846744</td>\n",
       "      <td>test_2255846744</td>\n",
       "    </tr>\n",
       "    <tr>\n",
       "      <th>1</th>\n",
       "      <td>test_3588702337</td>\n",
       "      <td>test_3588702337</td>\n",
       "    </tr>\n",
       "    <tr>\n",
       "      <th>2</th>\n",
       "      <td>test_4015706929</td>\n",
       "      <td>test_4015706929</td>\n",
       "    </tr>\n",
       "  </tbody>\n",
       "</table>\n",
       "</div>"
      ],
      "text/plain": [
       "        posting_id          matches\n",
       "0  test_2255846744  test_2255846744\n",
       "1  test_3588702337  test_3588702337\n",
       "2  test_4015706929  test_4015706929"
      ]
     },
     "execution_count": 35,
     "metadata": {},
     "output_type": "execute_result"
    }
   ],
   "source": [
    "# Increase threshold by 0.1\n",
    "# best_thres_eb0 = 100 #i.e. not used\n",
    "# best_thres_eb3 = 100\n",
    "best_thres_nlp = 0.90\n",
    "best_thres_eb3 = 0.70\n",
    "best_thres_tfidf = 0.75\n",
    "best_thres_phash = 0.974375\n",
    "\n",
    "submission_df = (\n",
    "    sim_df_img_eb3\n",
    "    .query('distances > @best_thres_eb3')\n",
    "    .append(\n",
    "        sim_df_phash\n",
    "        .query('distances > @best_thres_phash')\n",
    "    )\n",
    "    .append(\n",
    "        sim_df_nlp\n",
    "        .query('distances > @best_thres_nlp')\n",
    "    )\n",
    "    .append(\n",
    "        sim_df_tfidf\n",
    "        .query('distances > @best_thres_tfidf')\n",
    "    )\n",
    "    .drop_duplicates(subset=['posting_id','matches'])\n",
    "    .groupby('posting_id', as_index=False)\n",
    "    ['matches']\n",
    "    .apply(lambda x : ' '.join(x))\n",
    ")\n",
    "\n",
    "submission_df"
   ]
  },
  {
   "cell_type": "code",
   "execution_count": 36,
   "id": "identical-jimmy",
   "metadata": {
    "execution": {
     "iopub.execute_input": "2021-05-09T03:43:41.053289Z",
     "iopub.status.busy": "2021-05-09T03:43:41.052508Z",
     "iopub.status.idle": "2021-05-09T03:43:41.178181Z",
     "shell.execute_reply": "2021-05-09T03:43:41.177085Z"
    },
    "papermill": {
     "duration": 0.167955,
     "end_time": "2021-05-09T03:43:41.178312",
     "exception": false,
     "start_time": "2021-05-09T03:43:41.010357",
     "status": "completed"
    },
    "tags": []
   },
   "outputs": [],
   "source": [
    "submission_df.to_csv('submission.csv', index=False)"
   ]
  },
  {
   "cell_type": "code",
   "execution_count": null,
   "id": "banner-district",
   "metadata": {
    "papermill": {
     "duration": 0.03862,
     "end_time": "2021-05-09T03:43:41.256067",
     "exception": false,
     "start_time": "2021-05-09T03:43:41.217447",
     "status": "completed"
    },
    "tags": []
   },
   "outputs": [],
   "source": []
  }
 ],
 "metadata": {
  "kernelspec": {
   "display_name": "Python 3",
   "language": "python",
   "name": "python3"
  },
  "language_info": {
   "codemirror_mode": {
    "name": "ipython",
    "version": 3
   },
   "file_extension": ".py",
   "mimetype": "text/x-python",
   "name": "python",
   "nbconvert_exporter": "python",
   "pygments_lexer": "ipython3",
   "version": "3.7.10"
  },
  "papermill": {
   "default_parameters": {},
   "duration": 67.835303,
   "end_time": "2021-05-09T03:43:43.628819",
   "environment_variables": {},
   "exception": null,
   "input_path": "__notebook__.ipynb",
   "output_path": "__notebook__.ipynb",
   "parameters": {},
   "start_time": "2021-05-09T03:42:35.793516",
   "version": "2.3.3"
  }
 },
 "nbformat": 4,
 "nbformat_minor": 5
}
